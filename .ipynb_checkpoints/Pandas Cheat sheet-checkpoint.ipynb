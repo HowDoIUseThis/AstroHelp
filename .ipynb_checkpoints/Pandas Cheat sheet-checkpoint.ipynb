{
 "cells": [
  {
   "cell_type": "markdown",
   "metadata": {},
   "source": [
    "#   Pandas Cheat sheet\n",
    "---\n",
    "\n",
    "## Helpful links:\n",
    "\n",
    "* [Lots of tutorials relating to pandas](https://chrisalbon.com/#Python)\n",
    "\n",
    "* [Pandas Documentation](https://pandas.pydata.org/pandas-docs/stable/dsintro.html)\n"
   ]
  },
  {
   "cell_type": "markdown",
   "metadata": {},
   "source": [
    "## General file selection"
   ]
  },
  {
   "cell_type": "code",
   "execution_count": null,
   "metadata": {
    "collapsed": false
   },
   "outputs": [],
   "source": [
    "import os\n",
    "import pandas as pd\n",
    "import numpy as np\n",
    "\n",
    "\n",
    "filePath = os.getcwd() #This will grab the directory you are currently in\n",
    "print(filePath)\n",
    "#For the test case I added a test file named 'test.csv' under ../PandasIntro/Data\n",
    "\n",
    "filePath = filePath + 'Data/test.csv'\n",
    "#Hit shift + enter to see\n",
    "print(filePath)"
   ]
  },
  {
   "cell_type": "markdown",
   "metadata": {},
   "source": [
    "## Importing Data \n",
    "--- \n",
    "### Fits file\n",
    "\n",
    "I do not have a fits fill to test this so this block of code will not work, but if you give it a file path it will work"
   ]
  },
  {
   "cell_type": "code",
   "execution_count": null,
   "metadata": {
    "collapsed": false
   },
   "outputs": [],
   "source": [
    "#Standard imports for importing data\n",
    "import os\n",
    "import pandas as pd\n",
    "\n",
    "#Needed for fits files\n",
    "from astropy.io import fits\n",
    "\n",
    "\n",
    "filename = 'NameOfYourFile'\n",
    "data = Table.read(filename, format='fits')\n",
    "dataframe = data.to_pandas()"
   ]
  },
  {
   "cell_type": "markdown",
   "metadata": {},
   "source": [
    "### CSV\n",
    "\n",
    "#### Note\n",
    "There is a common problem where a CSV from SDSS will come with a first row that contains 'tablename'. Even if you choose no name in the SQL querery it will still have something there. This row needs to be deleted to avoid rasining an error. The easiest way to fix this is to open the file in exel and delete it.\n"
   ]
  },
  {
   "cell_type": "markdown",
   "metadata": {},
   "source": [
    "\n",
    "#### This is a simple function to read in a CSV\n"
   ]
  },
  {
   "cell_type": "code",
   "execution_count": null,
   "metadata": {
    "collapsed": false
   },
   "outputs": [],
   "source": [
    "import os\n",
    "import pandas as pd\n",
    "import numpy as np\n",
    "\n",
    "filePath = os.getcwd() + '/Data/test.csv'  #test data\n",
    "\n",
    "def readInDataFrame(filePath):\n",
    "    \"\"\"\n",
    "    Simple function that when given a filepath it will return a dataframe. There are one line options to import a csv,\n",
    "    but this method will handle large data sets better.\n",
    "    \"\"\"\n",
    "    temp = pd.read_csv(filePath, iterator=True, chunksize=1000)\n",
    "    dataframe = pd.concat(temp, ignore_index=True)\n",
    "    return dataframe\n",
    "\n",
    "dataframe = readInDataFrame(filePath)\n",
    "print(dataframe)"
   ]
  },
  {
   "cell_type": "markdown",
   "metadata": {},
   "source": [
    "## Pandas Selection tools\n",
    "---\n",
    "\n",
    "### Select Single and multiple columns\n",
    "\n",
    "If we want just the first column (A) we would simply do:"
   ]
  },
  {
   "cell_type": "code",
   "execution_count": null,
   "metadata": {
    "collapsed": false
   },
   "outputs": [],
   "source": [
    "print(dataframe['A'])"
   ]
  },
  {
   "cell_type": "markdown",
   "metadata": {},
   "source": [
    "Now I printed this column, but it is important to understand that this line will create a slice of data frame and can be used for other things.   \n",
    "\n",
    "\n",
    "For example we can create a new frame with only this column with:\n",
    "\n",
    "```python\n",
    "newdataframe = dataframe['A']\n",
    "```\n",
    "\n",
    "\n",
    "If we want to select more than one column we can with a list as in:  \n",
    "```python\n",
    "listOfColumns = ['A', 'B']\n",
    "dataframe[listOfColumns]\n",
    "\n",
    "```"
   ]
  },
  {
   "cell_type": "code",
   "execution_count": null,
   "metadata": {
    "collapsed": false
   },
   "outputs": [],
   "source": [
    "newdf = dataframe[['A','B']]\n",
    "print(newdf)"
   ]
  },
  {
   "cell_type": "markdown",
   "metadata": {},
   "source": [
    "## Select entries based on conditions\n",
    "\n",
    "We can select only part of a dataframe based on some boolean condition. For example you will notice that column 'C' has some NaN values that we don't want. If we want only the rows where there is no 'Nan' in 'C' we could do something with the the format:\n",
    "\n",
    "```python\n",
    "dataframe = dataframe.dropnan(subset = ['List','Of','Columns'])\n",
    "```\n",
    "\n",
    "Documentation for pandas.dropna can found [Here](http://pandas.pydata.org/pandas-docs/version/0.17.0/generated/pandas.DataFrame.dropna.html)\n",
    "\n",
    "### Example:"
   ]
  },
  {
   "cell_type": "code",
   "execution_count": null,
   "metadata": {
    "collapsed": false
   },
   "outputs": [],
   "source": [
    "dataframe = readInDataFrame(filePath)\n",
    "print(dataframe)\n",
    "dataframe = dataframe.dropna(subset =['C'])\n",
    "print(dataframe)"
   ]
  },
  {
   "cell_type": "markdown",
   "metadata": {},
   "source": [
    "## Add column for classification\n",
    " ---\n",
    "Sometimes you might want to catogorize points based on some condition.  If you can formulate what you want to do in a boolean expression you can use the function numpy.where as follows:  \n",
    "\n",
    "```python\n",
    "dataframe.loc[:,(ColumnToAdd)] = np.where((Boolean Selection Condition), (Value if true), (Value if false))\n",
    "```\n",
    "\n",
    "\n",
    "\n",
    "So for example, lets say we want to make a column called 'A_Pos' that has 'True' for all rows where the elements of column 'A' are positive and false otherwise.\n",
    "* ColumnToAdd:\n",
    "```python\n",
    "'A_Pos'\n",
    "```\n",
    "* Boolean Selection Condition:\n",
    "```python\n",
    "(dataframe.loc[:,'A'] > 0)\n",
    "```\n",
    "* Value if True:\n",
    "```python\n",
    "'True'\n",
    "```\n",
    "* Value if False\n",
    "```python\n",
    "'False'\n",
    "```\n",
    "\n",
    "All togther our line will be:\n",
    "```python\n",
    "dataframe.loc[:,'A_Pos'] = np.where((dataframe.loc[:,'A'] > 0), 'True', 'False')\n",
    "```\n",
    "\n",
    "##### Note:\n",
    "* The form of:   **dataframe.loc[:,(column)]** is needed to avoid errors with copying parts of the dataframe. This form sould be used in all refences to the dataframe in this line. \n",
    "* This also makes code hard to read so insure you comment your code\n",
    "\n",
    "\n",
    "### Example:"
   ]
  },
  {
   "cell_type": "code",
   "execution_count": null,
   "metadata": {
    "collapsed": false
   },
   "outputs": [],
   "source": [
    "dataframe.loc[:,'A_Pos'] = np.where((dataframe.loc[:,'A'] > 0), 'True', 'False')\n",
    "print(dataframe)\n"
   ]
  },
  {
   "cell_type": "markdown",
   "metadata": {},
   "source": [
    "### Adding a new catagory without messing up old data\n",
    "---\n",
    "Say we wanted to add the label 'Very_True' to the column 'A_Pos' for all elements greater than one using:\n",
    "```python \n",
    "dataframe.loc[:,'A_Pos'] = np.where((dataframe.loc[:,'A'] > 1), 'Very_True', 'False')\n",
    "```\n",
    "We would run into an issue as any case where the element of 'A' is less than one is set to 'False'. We would then corrupt the classification of all positive values that are less than one.\n",
    "\n",
    "### Example:"
   ]
  },
  {
   "cell_type": "code",
   "execution_count": null,
   "metadata": {
    "collapsed": false
   },
   "outputs": [],
   "source": [
    "dataframe.loc[:,'A_Pos'] = np.where((dataframe.loc[:,'A'] > 1), 'Very_True', 'False')\n",
    "print(dataframe)\n",
    "#Notice row 7 has a positive value but is marked false "
   ]
  },
  {
   "cell_type": "markdown",
   "metadata": {},
   "source": [
    "The solution is to have the false value be the current entry by using this line:\n",
    "```python\n",
    "dataframe.loc[:,'A_Pos'] = np.where((dataframe.loc[:,'A'] > 1), 'Very_True', dataframe.loc[:,'A_Pos'])\n",
    "```\n",
    "This will return the desired result"
   ]
  },
  {
   "cell_type": "markdown",
   "metadata": {},
   "source": [
    "## How Test Data was created\n",
    "---"
   ]
  },
  {
   "cell_type": "code",
   "execution_count": null,
   "metadata": {
    "collapsed": false
   },
   "outputs": [],
   "source": [
    "import os\n",
    "import pandas as pd\n",
    "import numpy as np\n",
    "import math\n",
    "\n",
    "df = pd.DataFrame(np.random.randn(10, 5), columns=['A', 'B', 'opps', 'C', 'D'])\n",
    "df['opps'] = np.NaN\n",
    "df.loc[:,'C'] = np.where((df.loc[:,'C'] > 0.1), np.NaN, df.loc[:,'C'])\n",
    "df.to_csv((os.getcwd() + '/Data/test.csv'))\n",
    "print(df)"
   ]
  }
 ],
 "metadata": {
  "anaconda-cloud": {},
  "kernelspec": {
   "display_name": "Python [conda root]",
   "language": "python",
   "name": "conda-root-py"
  },
  "language_info": {
   "codemirror_mode": {
    "name": "ipython",
    "version": 2
   },
   "file_extension": ".py",
   "mimetype": "text/x-python",
   "name": "python",
   "nbconvert_exporter": "python",
   "pygments_lexer": "ipython2",
   "version": "2.7.12"
  }
 },
 "nbformat": 4,
 "nbformat_minor": 1
}
